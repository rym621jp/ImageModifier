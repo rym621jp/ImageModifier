{
  "cells": [
    {
      "cell_type": "markdown",
      "metadata": {
        "id": "view-in-github",
        "colab_type": "text"
      },
      "source": [
        "<a href=\"https://colab.research.google.com/github/rym621jp/ImageModifier/blob/main/DHH_modifier.ipynb\" target=\"_parent\"><img src=\"https://colab.research.google.com/assets/colab-badge.svg\" alt=\"Open In Colab\"/></a>"
      ]
    },
    {
      "cell_type": "code",
      "execution_count": null,
      "id": "91381962",
      "metadata": {
        "id": "91381962",
        "outputId": "7308b806-5427-485f-f827-1fd76c6ff343"
      },
      "outputs": [
        {
          "name": "stdout",
          "output_type": "stream",
          "text": [
            "Defaulting to user installation because normal site-packages is not writeable\n",
            "Requirement already satisfied: opencv-python in c:\\users\\ryota\\appdata\\roaming\\python\\python39\\site-packages (4.6.0.66)\n",
            "Requirement already satisfied: numpy>=1.14.5 in c:\\programdata\\anaconda3\\lib\\site-packages (from opencv-python) (1.21.5)\n",
            "Note: you may need to restart the kernel to use updated packages.\n"
          ]
        }
      ],
      "source": [
        "pip install opencv-python"
      ]
    },
    {
      "cell_type": "code",
      "execution_count": null,
      "id": "9a9f9aea",
      "metadata": {
        "id": "9a9f9aea"
      },
      "outputs": [],
      "source": [
        "import cv2\n",
        "import numpy as np\n",
        "import matplotlib.pyplot as plt\n",
        "import glob"
      ]
    },
    {
      "cell_type": "code",
      "execution_count": null,
      "id": "6be629ca",
      "metadata": {
        "id": "6be629ca"
      },
      "outputs": [],
      "source": [
        "def PrevImg(data):\n",
        "    #cv2.imshow(\"preview\", data)\n",
        "\n",
        "    #cv2.waitKey(0)\n",
        "    #cv2.destroyAllWindows()\n",
        "    plt.imshow(data)\n",
        "    plt.show()\n",
        "    \n",
        "def SaveImg(name, data):\n",
        "    cv2.imwrite(\"E:\\\\DHH_modifired\\\\\"+name.split(\".\")[0]+\"_mod.\"+name.split(\".\")[1], data)\n",
        "    \n",
        "def Crop(data):   #画像を1024px四方にクロップ\n",
        "    height, width, channels = data.shape\n",
        "    longer = max([height, width])\n",
        "    racio = 1024/longer\n",
        "    \n",
        "    result = cv2.resize(data, dsize=None, fx=racio, fy=racio)\n",
        "    \n",
        "    return result\n",
        "\n",
        "def AddImage(back, main):   #backの画像にmainの画像を上書きする\n",
        "    height, width, _ = main.shape\n",
        "    x_offset = 0\n",
        "    y_offset = 0\n",
        "    \n",
        "    if height < width:\n",
        "        y_offset = int((1024-height)/2)\n",
        "    elif width < height:\n",
        "        x_offset = int((1024-width)/2)\n",
        "        \n",
        "    back[y_offset:y_offset+height, x_offset:x_offset+width] = main\n",
        "    \n",
        "    return back\n",
        "\n",
        "def AnalyzeDist(data):   #四辺のカラーデータを取得\n",
        "    height, width, _ = data.shape\n",
        "    #edge_cols = data[0, 0:width-1].reshape(1, width-1, 3) + data[0:height-1, width-1].reshape(height-1, 1, 3) + data[height-1, 0:width-1].reshape(1, width-1, 3) + data[0:height-1, 0].reshape(height-1, 1, 3)\n",
        "    edge_cols = []\n",
        "    for col in data[0, 0:width-1]:\n",
        "        edge_cols.append(col.tolist())\n",
        "    for col in data[height-1, 0:width-1]:\n",
        "        edge_cols.append(col.tolist())\n",
        "    for col in data[0:height-1, 0]:\n",
        "        edge_cols.append(col.tolist())\n",
        "    for col in data[0:height-1, width-1]:\n",
        "        edge_cols.append(col.tolist())\n",
        "    return edge_cols\n",
        "\n",
        "def ColAve(img):   #受け取った画像の色平均をとる\n",
        "    \n",
        "    def Img2Cols(img):\n",
        "        result = []\n",
        "        for line in img:\n",
        "            for pixel in line:\n",
        "                result.append(pixel)\n",
        "            \n",
        "        return result\n",
        "\n",
        "    R = []\n",
        "    G = []\n",
        "    B = []\n",
        "    cnt = 0\n",
        "    for cols in img:\n",
        "        R.append(cols[0])\n",
        "        G.append(cols[1])\n",
        "        B.append(cols[2])\n",
        "    return (int(np.mean(R)), int(np.mean(G)), int(np.mean(B)))\n",
        "\n",
        "def ColAdjust(img):   #RGBの順番を修正\n",
        "    return cv2.cvtColor(img, cv2.COLOR_RGB2BGR)"
      ]
    },
    {
      "cell_type": "code",
      "execution_count": null,
      "id": "f2dce541",
      "metadata": {
        "id": "f2dce541"
      },
      "outputs": [],
      "source": [
        "origin = \"E:\\\\DHH_archive_copy\\\\\"   #元画像フォルダ\n",
        "fixed = \"E:\\\\DHH_modifired\\\\\"   #保存先フォルダ"
      ]
    },
    {
      "cell_type": "code",
      "execution_count": null,
      "id": "e4f1e154",
      "metadata": {
        "id": "e4f1e154"
      },
      "outputs": [],
      "source": [
        "#対象画像をfilesに格納\n",
        "files = glob.glob(origin+\"*.*\")\n",
        "files"
      ]
    },
    {
      "cell_type": "code",
      "execution_count": null,
      "id": "55ae6555",
      "metadata": {
        "id": "55ae6555"
      },
      "outputs": [],
      "source": [
        "for path in files:\n",
        "    #画像読み込み&サイズの正規化\n",
        "    img = Crop(cv2.imread(path))\n",
        "    #ファイル名取得\n",
        "    name = path.split(\"\\\\\")[2]\n",
        " \n",
        "    if img.shape[:2]==(1024,1024):   #画像が正方形ならそのまま出力\n",
        "        cv2.imwrite(fixed+name.split(\".\")[0]+\".jpg\", img, [cv2.IMWRITE_JPEG_QUALITY, 100])\n",
        "    else:   #それ以外なら画像の四辺の色に調和した色で余白を作って正方形にする\n",
        "        bg_col = ColAve(AnalyzeDist(img))\n",
        "        bg = np.full((1024, 1024, 3), bg_col)\n",
        "        result_img = AddImage(bg, img)\n",
        "        cv2.imwrite(fixed+name.split(\".\")[0]+\".jpg\", result_img, [cv2.IMWRITE_JPEG_QUALITY, 100])"
      ]
    }
  ],
  "metadata": {
    "kernelspec": {
      "display_name": "Python 3 (ipykernel)",
      "language": "python",
      "name": "python3"
    },
    "language_info": {
      "codemirror_mode": {
        "name": "ipython",
        "version": 3
      },
      "file_extension": ".py",
      "mimetype": "text/x-python",
      "name": "python",
      "nbconvert_exporter": "python",
      "pygments_lexer": "ipython3",
      "version": "3.9.13"
    },
    "colab": {
      "provenance": [],
      "include_colab_link": true
    }
  },
  "nbformat": 4,
  "nbformat_minor": 5
}